{
  "cells": [
    {
      "cell_type": "markdown",
      "id": "PsF6qdQh_iWL",
      "metadata": {
        "id": "PsF6qdQh_iWL"
      },
      "source": [
        "# Red Teaming Segment Anything\n",
        "## Mask robustness in different weather conditions\n",
        "\n",
        "Due to license of Cityscapes dataset, the dataset needs to be constructed separately and cannot be shared in this notebook. Instructions how to construct the dataset are present here: https://github.com/vnmusat/multi-weather-city"
      ]
    },
    {
      "cell_type": "code",
      "execution_count": null,
      "id": "b48397c3165c20b2",
      "metadata": {
        "ExecuteTime": {
          "end_time": "2023-11-26T15:04:40.849783364Z",
          "start_time": "2023-11-26T15:04:40.842943353Z"
        },
        "id": "b48397c3165c20b2"
      },
      "outputs": [],
      "source": [
        "# Remember to change depending on whether using on Colab or not.\n",
        "# If run locally the notebook assumes that the datasets and libraries have been already installed,\n",
        "# if not the lines from get_colab_dependencies should be done once.\n",
        "USING_COLAB = True\n",
        "GDRIVE_DATASET_ID = 'cannot be shared due to license of Cityscapes dataset'"
      ]
    },
    {
      "cell_type": "code",
      "execution_count": null,
      "id": "KxseVZVp77Ol",
      "metadata": {
        "ExecuteTime": {
          "end_time": "2023-11-25T23:33:15.630186091Z",
          "start_time": "2023-11-25T23:33:15.529646257Z"
        },
        "id": "KxseVZVp77Ol"
      },
      "outputs": [],
      "source": [
        "import sys\n",
        "from pathlib import Path\n",
        "from typing import Dict, List, Optional, Tuple\n",
        "\n",
        "import cv2\n",
        "import matplotlib.pyplot as plt\n",
        "import numpy as np\n",
        "import torch\n",
        "import torchvision\n",
        "from tqdm.notebook import tqdm"
      ]
    },
    {
      "cell_type": "code",
      "execution_count": null,
      "id": "o5rpRMyV73xu",
      "metadata": {
        "ExecuteTime": {
          "end_time": "2023-11-25T23:33:15.630456083Z",
          "start_time": "2023-11-25T23:33:15.529918352Z"
        },
        "id": "o5rpRMyV73xu"
      },
      "outputs": [],
      "source": [
        "def get_colab_dependencies(using_colab: bool) -> None:\n",
        "    \"\"\"\n",
        "    If using_colab is set to True, then the dependencies will be installed.\n",
        "    The function assumes that the model checkpoint and the dataset are already present locally, if not then the function should be called to download all the necessary data.\n",
        "    \"\"\"\n",
        "    if using_colab:\n",
        "        !{sys.executable} -m pip install opencv-python matplotlib\n",
        "        !{sys.executable} -m pip install 'git+https://github.com/facebookresearch/segment-anything.git'\n",
        "        # download the vit model\n",
        "        !wget https://dl.fbaipublicfiles.com/segment_anything/sam_vit_h_4b8939.pth\n",
        "        # get Cityscapes_multi_weather dataset using gdown\n",
        "        !{sys.executable} -m pip install gdown\n",
        "        !mkdir multi-weather-city\n",
        "        # remember to put id from your Google drive\n",
        "        !gdown --id f\"GDRIVE_DATASET_ID\" -O Cityscapes_multi_weather.zip\n",
        "        !mv Cityscapes_multi_weather.zip ./multi-weather-city/Cityscapes_multi_weather.zip\n",
        "        !unzip ./multi-weather-city/Cityscapes_multi_weather.zip -d ./multi-weather-city\n",
        "        !rm ./multi-weather-city/Cityscapes_multi_weather.zip\n",
        "\n",
        "        from google.colab import drive\n",
        "        # Mount Google Drive to Colab (optional)\n",
        "        drive.mount('/gdrive')"
      ]
    },
    {
      "cell_type": "code",
      "execution_count": null,
      "id": "54b4d8868f829ed0",
      "metadata": {
        "ExecuteTime": {
          "end_time": "2023-11-25T23:33:15.630602365Z",
          "start_time": "2023-11-25T23:33:15.530165056Z"
        },
        "id": "54b4d8868f829ed0"
      },
      "outputs": [],
      "source": [
        "get_colab_dependencies(USING_COLAB)\n",
        "from segment_anything import sam_model_registry, SamAutomaticMaskGenerator, SamPredictor\n",
        "from segment_anything.modeling import Sam"
      ]
    },
    {
      "cell_type": "code",
      "execution_count": null,
      "id": "5cc207dc637ee03a",
      "metadata": {
        "ExecuteTime": {
          "end_time": "2023-11-25T23:33:15.630751683Z",
          "start_time": "2023-11-25T23:33:15.530367838Z"
        },
        "id": "5cc207dc637ee03a"
      },
      "outputs": [],
      "source": [
        "def get_image(path: str) -> np.ndarray:\n",
        "    \"\"\"\n",
        "    Function to load the image from the path and convert it to RGB format.\n",
        "    \"\"\"\n",
        "    img = cv2.imread(path)\n",
        "    img = cv2.cvtColor(img, cv2.COLOR_BGR2RGB)\n",
        "    return img\n",
        "\n",
        "\n",
        "def show_image(image: np.ndarray, figsize: Tuple[int, int] = (5, 5)) -> None:\n",
        "    \"\"\"\n",
        "    Function to show the image. Useful for debugging.\n",
        "    \"\"\"\n",
        "    plt.figure(figsize=figsize)\n",
        "    plt.imshow(image)\n",
        "    plt.axis('off')\n",
        "    plt.show()"
      ]
    },
    {
      "cell_type": "code",
      "execution_count": null,
      "id": "f3707fcd43a58094",
      "metadata": {
        "ExecuteTime": {
          "end_time": "2023-11-25T23:33:15.630989239Z",
          "start_time": "2023-11-25T23:33:15.530576932Z"
        },
        "id": "f3707fcd43a58094"
      },
      "outputs": [],
      "source": [
        "def get_sam(sam_checkpoint: str = \"sam_vit_h_4b8939.pth\", model_type: str = \"vit_h\") -> Sam:\n",
        "    \"\"\"\n",
        "    Getter function to make the code cleaner. Segment Anything model is loaded and moved to GPU if available.\n",
        "    \"\"\"\n",
        "    device = torch.device(\"cuda\" if torch.cuda.is_available() else \"cpu\")\n",
        "    sam = sam_model_registry[model_type](checkpoint=sam_checkpoint)\n",
        "    sam.to(device=device)\n",
        "    return sam"
      ]
    },
    {
      "cell_type": "code",
      "execution_count": null,
      "id": "initial_id",
      "metadata": {
        "ExecuteTime": {
          "end_time": "2023-11-25T23:33:15.631130617Z",
          "start_time": "2023-11-25T23:33:15.536279429Z"
        },
        "collapsed": true,
        "id": "initial_id"
      },
      "outputs": [],
      "source": [
        "def find_center_of_mask(mask: np.ndarray) -> Tuple[int, int]:\n",
        "    \"\"\"\n",
        "    Function finds the center (mean of x and y coordinates) of the mask. If the center lays outside the mask, then the closest point in mask is returned.\n",
        "    \"\"\"\n",
        "    mask_indices = np.where(mask)\n",
        "    y_center = int(np.mean(mask_indices[0]))\n",
        "    x_center = int(np.mean(mask_indices[1]))\n",
        "    # if point not in mask find the closest point in mask\n",
        "    if not mask[x_center][y_center]:\n",
        "        y_center = mask_indices[0][np.argmin(np.abs(mask_indices[0] - y_center))]\n",
        "        x_center = mask_indices[1][np.argmin(np.abs(mask_indices[1] - x_center))]\n",
        "\n",
        "    return x_center, y_center"
      ]
    },
    {
      "cell_type": "code",
      "execution_count": null,
      "id": "f0a4e799c725dc59",
      "metadata": {
        "ExecuteTime": {
          "end_time": "2023-11-25T23:33:15.631425759Z",
          "start_time": "2023-11-25T23:33:15.543564167Z"
        },
        "id": "f0a4e799c725dc59"
      },
      "outputs": [],
      "source": [
        "MAX_COLORS = 256\n",
        "RANDOM_COLORS = np.random.random((MAX_COLORS, 3))\n",
        "\n",
        "\n",
        "def show_masks(image: np.ndarray,\n",
        "               image_title: str,\n",
        "               masks: List[np.ndarray],\n",
        "               points: List[Tuple[int, int]],\n",
        "               top_k=None,\n",
        "               figsize: Tuple[int, int] = (4, 4),\n",
        "               display: bool = True) -> None:\n",
        "    \"\"\"\n",
        "    Function to display the masks and points of interest on the image.\n",
        "    If top_k is not specified, all masks will be displayed.\n",
        "    Masks will be displayed only if display is set to True.\n",
        "    \"\"\"\n",
        "    if len(masks) == 0 or not display:\n",
        "        return\n",
        "\n",
        "    if top_k is None:\n",
        "        top_k = len(masks)\n",
        "\n",
        "    plt.figure(figsize=figsize)\n",
        "    plt.imshow(image)\n",
        "\n",
        "    ax = plt.gca()\n",
        "    ax.set_autoscale_on(False)\n",
        "\n",
        "    img = np.ones((np.squeeze(masks[0]).shape[0], np.squeeze(masks[0]).shape[1], 4))\n",
        "    img[:, :, 3] = 0\n",
        "    for i, m in enumerate(masks[:top_k]):\n",
        "        color_mask = np.concatenate([RANDOM_COLORS[i], [0.35]])\n",
        "        m = np.squeeze(m)  # there is an extra dimension when masking from point prompt\n",
        "        img[m] = color_mask\n",
        "\n",
        "    points_x = [p[0] for p in points[:top_k]]\n",
        "    points_y = [p[1] for p in points[:top_k]]\n",
        "    ax.imshow(img)\n",
        "    ax.scatter(points_x, points_y, s=100, c=\"red\", marker=\"x\")\n",
        "    ax.set_axis_off()\n",
        "    plt.title(f\"{image_title} masks\")\n",
        "    plt.show()"
      ]
    },
    {
      "cell_type": "code",
      "execution_count": null,
      "id": "cd0b61c962a77db5",
      "metadata": {
        "id": "cd0b61c962a77db5"
      },
      "outputs": [],
      "source": [
        "def save_masks(main_image_masks: List[np.ndarray],\n",
        "               conditions_masks: Dict[str, List[np.ndarray]],\n",
        "               output_path: str,\n",
        "               conditions: List[str]) -> None:\n",
        "    \"\"\"\n",
        "    Function to save the masks for each condition and the main image.\n",
        "    Masks are converted to numpy arrays for performance and easier saving.\n",
        "    \"\"\"\n",
        "    assert output_path.endswith('.npz'), \"Output path should end with .npz\"\n",
        "\n",
        "    np_main_image_masks = np.stack(main_image_masks, axis=0)\n",
        "    np_conditions_masks = np.stack([np.stack(value, axis=0) for key, value in conditions_masks.items()], axis=0)\n",
        "    np_conditions_names = np.array(conditions)\n",
        "    np.savez(output_path, main_image_masks=np_main_image_masks, conditions_masks=np_conditions_masks,\n",
        "             conditions=np_conditions_names)\n",
        "\n",
        "\n",
        "def load_masks(input_path: str) -> Tuple[List[np.ndarray], Dict[str, List[np.ndarray]]]:\n",
        "    \"\"\"\n",
        "    Function to load the masks from the npz file.\n",
        "    Converts the stored data from numpy format to format used in the code.\n",
        "    \"\"\"\n",
        "    assert input_path.endswith('.npz'), \"Input path should end with .npz\"\n",
        "\n",
        "    npzfile = np.load(input_path)\n",
        "    main_image_masks = npzfile['main_image_masks']\n",
        "    conditions_masks = npzfile['conditions_masks']\n",
        "    conditions_names = npzfile['conditions']\n",
        "\n",
        "    ret_main_image_masks: List[np.ndarray] = [mask for mask in main_image_masks]\n",
        "    ret_conditions_masks: Dict[str, List[np.ndarray]] = {}\n",
        "    for i, condition in enumerate(conditions_names):\n",
        "        ret_conditions_masks[condition] = [mask for mask in conditions_masks[i]]\n",
        "\n",
        "    return ret_main_image_masks, ret_conditions_masks"
      ]
    },
    {
      "cell_type": "code",
      "execution_count": null,
      "id": "KnjpdGuXOS5m",
      "metadata": {
        "ExecuteTime": {
          "end_time": "2023-11-25T23:33:15.646982701Z",
          "start_time": "2023-11-25T23:33:15.562304873Z"
        },
        "id": "KnjpdGuXOS5m"
      },
      "outputs": [],
      "source": [
        "def get_masks_from_points(image: np.ndarray,\n",
        "                          points: List[Tuple[int, int]],\n",
        "                          predictor: SamPredictor,\n",
        "                          k=None) -> List[np.ndarray]:\n",
        "    \"\"\"\n",
        "    Function to get the masks from the points of interest. If k is not specified, all points will be used,\n",
        "    otherwise k masks will be returned. An image is set for the predictor to calculate the embedding only once\n",
        "    for optimization purposes.\n",
        "    \"\"\"\n",
        "    if k is None:\n",
        "        k = len(points)\n",
        "    final_masks = []\n",
        "    predictor.set_image(image)\n",
        "    for i, point in enumerate(points[:k]):\n",
        "        masks, _, _ = predictor.predict(\n",
        "            point_coords=np.array([point]),\n",
        "            point_labels=np.array([1]),\n",
        "            multimask_output=True,\n",
        "        )\n",
        "        masks_areas = np.sum(masks, axis=(1, 2))\n",
        "        mask = masks[np.argmax(masks_areas)]  # heuristic - choose the biggest area\n",
        "\n",
        "        final_masks.append(mask)\n",
        "    return final_masks"
      ]
    },
    {
      "cell_type": "code",
      "execution_count": null,
      "id": "189bbe17a7aa6b42",
      "metadata": {
        "ExecuteTime": {
          "end_time": "2023-11-25T23:33:15.647287008Z",
          "start_time": "2023-11-25T23:33:15.605650667Z"
        },
        "id": "189bbe17a7aa6b42"
      },
      "outputs": [],
      "source": [
        "def get_iou(mask1: np.ndarray, mask2: np.ndarray) -> np.ndarray:\n",
        "    \"\"\"\n",
        "    Function to calculate the IoU between two masks. Masks are expected to be in the format (N, H, W).\n",
        "    \"\"\"\n",
        "    intersection = np.logical_and(mask1, mask2)\n",
        "    union = np.logical_or(mask1, mask2)\n",
        "    iou_score = np.sum(intersection, axis=(1, 2)) / np.sum(union, axis=(1, 2))\n",
        "    return iou_score\n",
        "\n",
        "\n",
        "def get_mean_iou(masks1: List[np.ndarray], masks2: List[np.ndarray]) -> np.ndarray:\n",
        "    \"\"\"\n",
        "    Function to calculate the mean IoU between two lists of masks. masks are converted to numpy arrays for performance reasons.\n",
        "    \"\"\"\n",
        "    assert len(masks1) == len(masks2)\n",
        "\n",
        "    np_masks1 = np.stack(masks1, axis=0)\n",
        "    np_masks2 = np.stack(masks2, axis=0)\n",
        "\n",
        "    ious = get_iou(np_masks1, np_masks2)\n",
        "    assert ious.shape == (len(np_masks1),)\n",
        "\n",
        "    return np.mean(ious)"
      ]
    },
    {
      "cell_type": "code",
      "execution_count": null,
      "id": "8e4003ad0ba1a8bd",
      "metadata": {
        "ExecuteTime": {
          "end_time": "2023-11-26T00:04:49.702382019Z",
          "start_time": "2023-11-26T00:04:49.659065483Z"
        },
        "id": "8e4003ad0ba1a8bd"
      },
      "outputs": [],
      "source": [
        "def histogram_of_mean_ious(mean_ious_results: Dict[str, List[float]],\n",
        "                           num_cols: int = 2,\n",
        "                           fig_size: Tuple[int, int] = (10, 10)) -> None:\n",
        "    \"\"\"\n",
        "    Function to display the histogram of mean IoUs for each condition.\n",
        "    \"\"\"\n",
        "    num_conditions = len(mean_ious_results)\n",
        "    num_columns = num_cols\n",
        "    num_rows = (num_conditions + num_columns - 1) // num_columns  # Calculate the number of rows\n",
        "\n",
        "    fig, axes = plt.subplots(nrows=num_rows, ncols=num_columns, figsize=fig_size)\n",
        "\n",
        "    for i, (condition, mean_ious) in enumerate(mean_ious_results.items()):\n",
        "        mean_of_mean_ious = np.mean(mean_ious)\n",
        "        print(f'Mean IoU for condition {condition} is {mean_of_mean_ious:.4f}')\n",
        "\n",
        "        # Plot histogram on the i-th subplot\n",
        "        row, col = divmod(i, num_columns)\n",
        "        condition = condition.replace('Cityscapes_', '')\n",
        "\n",
        "        if num_rows == 1:\n",
        "          axes[col].hist(mean_ious, range=(0, 1))\n",
        "          axes[col].axvline(mean_of_mean_ious, color='red', linestyle='dashed', linewidth=1)\n",
        "          axes[col].set_title(f'Condition: {condition}\\nMean: {mean_of_mean_ious:.2f}')\n",
        "        else:\n",
        "          axes[row, col].hist(mean_ious, range=(0, 1))\n",
        "          axes[row, col].axvline(mean_of_mean_ious, color='red', linestyle='dashed', linewidth=1)\n",
        "          axes[row, col].set_title(f'Condition: {condition}\\nMean: {mean_of_mean_ious:.2f}')\n",
        "\n",
        "    # Remove last subplots\n",
        "    for i in range(len(mean_ious_results.items()), num_columns * num_rows):\n",
        "        row, col = divmod(i, num_columns)\n",
        "        axes[row, col].set_axis_off()\n",
        "\n",
        "    plt.tight_layout()  # Adjust layout to prevent overlap\n",
        "    plt.show()"
      ]
    },
    {
      "cell_type": "code",
      "execution_count": null,
      "id": "bf371d45f790519d",
      "metadata": {
        "ExecuteTime": {
          "end_time": "2023-11-25T23:43:15.746501152Z",
          "start_time": "2023-11-25T23:43:15.704974580Z"
        },
        "id": "bf371d45f790519d"
      },
      "outputs": [],
      "source": [
        "def experiment(points_filenames_path: Path,\n",
        "               main_images_filenames_path: Path,\n",
        "               k_points: int,\n",
        "               city: str,\n",
        "               display: bool = False,\n",
        "               num_files: Optional[int] = None):\n",
        "    \"\"\"\n",
        "    Enables conducting many experiments with different value as they might be treated as hyperparameters and various input directories. Save the computed masks for later use.\n",
        "    \"\"\"\n",
        "    if num_files is None:\n",
        "        num_files = len(list(points_filenames_path.glob('*.png')))\n",
        "\n",
        "    # check if directory results exists or create\n",
        "    results_dir = Path('./gdrive/results')\n",
        "    if not results_dir.exists():\n",
        "        results_dir.mkdir(parents=True)\n",
        "\n",
        "    # Prepare model and predictors.\n",
        "    sam = get_sam()\n",
        "    automatic_mask_generator = SamAutomaticMaskGenerator(sam)\n",
        "    predictor = SamPredictor(sam)\n",
        "\n",
        "    benchmark_images_filenames = list(points_filenames_path.glob('*.png'))[:num_files]  # list for tqdm\n",
        "    main_images_filenames = list(main_images_filenames_path.glob('*.png'))[:num_files]  # list for tqdm\n",
        "\n",
        "    mean_ious_results: Dict[str, List[np.ndarray]] = {key: [] for key in COMPARE_CONDITIONS}\n",
        "\n",
        "\n",
        "    print(f'Starting benchmarking for city: {city} with {k_points} points of interest '\n",
        "          f'coming from {str(points_filenames_path)} directory.')\n",
        "\n",
        "    # main experiment loop\n",
        "    for points_of_interest_path, main_image_path in tqdm(zip(benchmark_images_filenames, main_images_filenames)):\n",
        "        print(f'Points for benchmarking masks will be taken from path: {points_of_interest_path}')\n",
        "        points_of_interest_image = get_image(str(points_of_interest_path))\n",
        "        original_masks = automatic_mask_generator.generate(points_of_interest_image)\n",
        "        sorted_masks = sorted(original_masks, key=lambda m: m['area'], reverse=True)\n",
        "        masks: List[np.ndarray] = [m['segmentation'] for m in sorted_masks]\n",
        "        points = [find_center_of_mask(m) for m in masks]\n",
        "        show_masks(points_of_interest_image, 'Point proposals and ', masks, points, k_points, display=display)\n",
        "        # At this point we have the points of interest for the image.\n",
        "\n",
        "        print(f'Calculating masks for main image: {main_image_path}')\n",
        "        main_image = get_image(str(main_image_path))\n",
        "        main_image_masks = get_masks_from_points(main_image, points, predictor, k_points)\n",
        "        show_masks(points_of_interest_image, f'main image ', main_image_masks, points, k_points, display=display)\n",
        "\n",
        "        # Now we can calculate the masks for other conditions\n",
        "        print(f'Calculating masks for {len(COMPARE_CONDITIONS)} conditions for file {main_image_path.name}')\n",
        "\n",
        "        conditions_masks: Dict[str, List[np.ndarray]] = {}\n",
        "        for condition in COMPARE_CONDITIONS:\n",
        "            condition_image_path = Path(PREFIX_DIR) / condition / 'leftImg8bit/train' / city / main_image_path.name\n",
        "            condition_image = get_image(str(condition_image_path))\n",
        "            condition_masks_from_points = get_masks_from_points(condition_image, points, predictor, k_points)\n",
        "            show_masks(condition_image, f'{condition} ', condition_masks_from_points, points, k_points, display=display)\n",
        "            # save if needed later\n",
        "            conditions_masks[condition] = condition_masks_from_points\n",
        "\n",
        "            # calculate mean iou\n",
        "            mean_iou = get_mean_iou(main_image_masks, condition_masks_from_points)\n",
        "            mean_ious_results[condition].append(mean_iou)\n",
        "\n",
        "        output_masks_filename = str(results_dir / Path(main_image_path.name).with_suffix('.npz'))\n",
        "        save_masks(main_image_masks, conditions_masks, output_masks_filename, COMPARE_CONDITIONS)\n",
        "\n",
        "    return mean_ious_results"
      ]
    },
    {
      "cell_type": "markdown",
      "id": "1c0bf746d3e3f62b",
      "metadata": {
        "collapsed": false,
        "id": "1c0bf746d3e3f62b"
      },
      "source": [
        "### Main code for experiments"
      ]
    },
    {
      "cell_type": "code",
      "execution_count": null,
      "id": "1db8b8a1c72c2e5d",
      "metadata": {
        "id": "1db8b8a1c72c2e5d"
      },
      "outputs": [],
      "source": [
        "PREFIX_DIR = './multi-weather-city/Cityscapes_multi_weather'\n",
        "COMPARE_CONDITIONS = ['Cityscapes_night',\n",
        "                      'Cityscapes_night_drops',\n",
        "                      'Cityscapes_overcast_drops',\n",
        "                      'Cityscapes_snow',\n",
        "                      'Cityscapes_snow_drops',\n",
        "                      'Cityscapes_wet',\n",
        "                      'Cityscapes_wet_drops']\n",
        "MAIN_DIR = str(Path(PREFIX_DIR) / 'Cityscapes_overcast/leftImg8bit/train')\n",
        "\n",
        "# Different experiments values - hyperparameters.\n",
        "# With this path we can test 2 methods of choosing points of interest: from image or ground truth masks from dataset.\n",
        "POINTS_OF_INTEREST_PATH = MAIN_DIR # can be also: str(Path(PREFIX_DIR) / 'Cityscapes_overcast/gtFine/train')\n",
        "CITY_DIR = 'aachen'\n",
        "DEBUG = False\n",
        "K = 9"
      ]
    },
    {
      "cell_type": "code",
      "execution_count": null,
      "id": "981ee4d564a4b2a9",
      "metadata": {
        "id": "981ee4d564a4b2a9"
      },
      "outputs": [],
      "source": [
        "city = CITY_DIR\n",
        "points_filenames_path = Path(POINTS_OF_INTEREST_PATH) / city\n",
        "main_images_filenames_path = Path(MAIN_DIR) / city\n",
        "mean_iou_results = experiment(points_filenames_path, main_images_filenames_path, K, city, display=DEBUG)"
      ]
    },
    {
      "cell_type": "code",
      "execution_count": null,
      "id": "B8P5KQlK_Xg9",
      "metadata": {
        "id": "B8P5KQlK_Xg9"
      },
      "outputs": [],
      "source": [
        "import json\n",
        "\n",
        "# Keep the masks to be used later\n",
        "with open('mean_ious_results.json', 'w') as json_file:\n",
        "    json.dump(mean_iou_results, json_file)"
      ]
    },
    {
      "cell_type": "code",
      "execution_count": null,
      "id": "KdYOlosYcU5N",
      "metadata": {
        "colab": {
          "base_uri": "https://localhost:8080/",
          "height": 674
        },
        "id": "KdYOlosYcU5N",
        "outputId": "d69bf646-f4fe-4b6f-a3fe-e1e185b80838"
      },
      "outputs": [
        {
          "name": "stdout",
          "output_type": "stream",
          "text": [
            "Mean IoU for condition Cityscapes_night is 0.7030\n",
            "Mean IoU for condition Cityscapes_night_drops is 0.3896\n",
            "Mean IoU for condition Cityscapes_overcast_drops is 0.7649\n",
            "Mean IoU for condition Cityscapes_snow is 0.8707\n",
            "Mean IoU for condition Cityscapes_snow_drops is 0.5439\n",
            "Mean IoU for condition Cityscapes_wet is 0.7957\n",
            "Mean IoU for condition Cityscapes_wet_drops is 0.5660\n"
          ]
        },
        {
          "data": {
            "image/png": "[encoded data removed]",
            "text/plain": [
              "<Figure size 1600x700 with 8 Axes>"
            ]
          },
          "metadata": {},
          "output_type": "display_data"
        }
      ],
      "source": [
        "histogram_of_mean_ious(mean_iou_results, num_cols=4, fig_size=(16, 7))"
      ]
    }
  ],
  "metadata": {
    "accelerator": "GPU",
    "colab": {
      "gpuType": "T4",
      "provenance": []
    },
    "kernelspec": {
      "display_name": "Python 3 (ipykernel)",
      "language": "python",
      "name": "python3"
    },
    "language_info": {
      "codemirror_mode": {
        "name": "ipython",
        "version": 2
      },
      "file_extension": ".py",
      "mimetype": "text/x-python",
      "name": "python",
      "nbconvert_exporter": "python",
      "pygments_lexer": "ipython2",
      "version": "2.7.6"
    }
  },
  "nbformat": 4,
  "nbformat_minor": 5
}
